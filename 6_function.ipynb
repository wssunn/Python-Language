{
 "cells": [
  {
   "cell_type": "markdown",
   "metadata": {},
   "source": [
    "### 迭代器\n",
    "\n",
    "```python\n",
    "x = [1, 2, 3]; it = iter(x)\n",
    "print(it.__next__()) #输出1\n",
    "print(it.__next__()) #输出2\n",
    "print(it.__next__()) #输出3\n",
    "print(it.__next__()) #返回 StopIteration\n",
    "```"
   ]
  },
  {
   "cell_type": "markdown",
   "metadata": {},
   "source": [
    "## function"
   ]
  },
  {
   "cell_type": "code",
   "execution_count": 3,
   "metadata": {},
   "outputs": [
    {
     "output_type": "stream",
     "name": "stdout",
     "text": "the doc string\n"
    }
   ],
   "source": [
    "def myfunc():\n",
    "    '''the doc string'''\n",
    "    pass\n",
    "print(myfunc.__doc__)  #输出：the doc string"
   ]
  },
  {
   "cell_type": "markdown",
   "metadata": {},
   "source": [
    "### 函数的调用方式\n"
   ]
  },
  {
   "cell_type": "code",
   "execution_count": 13,
   "metadata": {},
   "outputs": [
    {
     "output_type": "stream",
     "name": "stdout",
     "text": "Gary   32\nGary 32\nGary 32\ngary 32\ngary 32\n"
    }
   ],
   "source": [
    "#星号（*）后面的形参 必须 要指定参数名称\n",
    "def recorder(name, *, age):\n",
    "    print(name, ' ', age)\n",
    "#recorder('Gary', 32)        #错误，没有指定形参age\n",
    "recorder('Gary', age=32)    #正确，指定形参age\n",
    "\n",
    "#有默认值的形参必须放在没有默认值的后面\n",
    "def recorder(name, age=32)  #正确\n",
    "def recorder(age=32, name)  #错误\n",
    "\n",
    "#func(*参数) 解包tuple或者list\n",
    "#如果使用tuple，则解包参数不可修改\n",
    "def recorder(*person):\n",
    "    print(person[0], person[1]) \n",
    "mylist = ['Gary', 32]; recorder(*mylist)    #输出：Gary 32\n",
    "mytuple = ['Gary', 32]; recorder(*mytuple)  #输出：Gary 32\n",
    "\n",
    "#func(**dict) 解包字典\n",
    "def recorder(**person):\n",
    "    print(person['name'], person['age'])\n",
    "mydict = {'age':32, 'name':'gary'}\n",
    "recorder(**mydict)\n",
    "recorder(age=32, name='gary')\n"
   ]
  },
  {
   "cell_type": "markdown",
   "metadata": {},
   "source": [
    "#### 混合使用"
   ]
  },
  {
   "cell_type": "code",
   "execution_count": 18,
   "metadata": {},
   "outputs": [
    {
     "output_type": "stream",
     "name": "stdout",
     "text": "Gary 32\nGary 32\n"
    }
   ],
   "source": [
    "# 单个形参在前，列表元组字典在后，调用不需要指定单个形参名字\n",
    "def recorder(ttt, *person1, **person2):\n",
    "    if len(person1) != 0:\n",
    "        print(person1[0], person1[1])\n",
    "    if len(person2) != 0:\n",
    "        print(person2['name'], person2['age'])\n",
    "\n",
    "recorder('abc', 'Gary', 32)            #传入不指定形参的实参，由person1接收\n",
    "recorder('abc', name='Gary', age=32)   #传入指定形参的实参，由person2接收\n",
    "recorder(ttt='abc')                    #不需要指定"
   ]
  },
  {
   "cell_type": "code",
   "execution_count": null,
   "metadata": {},
   "outputs": [],
   "source": []
  }
 ],
 "metadata": {
  "language_info": {
   "codemirror_mode": {
    "name": "ipython",
    "version": 3
   },
   "file_extension": ".py",
   "mimetype": "text/x-python",
   "name": "python",
   "nbconvert_exporter": "python",
   "pygments_lexer": "ipython3",
   "version": "3.7.7-final"
  },
  "orig_nbformat": 2,
  "kernelspec": {
   "name": "python3",
   "display_name": "Python 3"
  }
 },
 "nbformat": 4,
 "nbformat_minor": 2
}