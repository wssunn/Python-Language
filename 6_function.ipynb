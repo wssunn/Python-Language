{
 "cells": [
  {
   "cell_type": "markdown",
   "metadata": {},
   "source": [
    "### 迭代器\n",
    "\n",
    "```python\n",
    "x = [1, 2, 3]; it = iter(x)\n",
    "print(it.__next__()) #输出1\n",
    "print(it.__next__()) #输出2\n",
    "print(it.__next__()) #输出3\n",
    "print(it.__next__()) #返回 StopIteration\n",
    "```"
   ]
  },
  {
   "cell_type": "markdown",
   "metadata": {},
   "source": [
    "## function"
   ]
  },
  {
   "cell_type": "code",
   "execution_count": 3,
   "metadata": {},
   "outputs": [
    {
     "output_type": "stream",
     "name": "stdout",
     "text": "the doc string\n"
    }
   ],
   "source": [
    "def myfunc():\n",
    "    '''the doc string'''\n",
    "    pass\n",
    "print(myfunc.__doc__)  #输出：the doc string"
   ]
  },
  {
   "cell_type": "markdown",
   "metadata": {},
   "source": [
    "### 1.函数的调用方式\n"
   ]
  },
  {
   "cell_type": "code",
   "execution_count": 48,
   "metadata": {},
   "outputs": [
    {
     "output_type": "stream",
     "name": "stdout",
     "text": "Gary   32\nGary 32\nGary 32\ngary 32\ngary 32\n"
    }
   ],
   "source": [
    "#星号（*）后面的形参 必须 要指定参数名称\n",
    "def recorder(name, *, age):\n",
    "    print(name, ' ', age)\n",
    "#recorder('Gary', 32)        #错误，没有指定形参age\n",
    "recorder('Gary', age=32)    #正确，指定形参age\n",
    "\n",
    "#有默认值的形参必须放在没有默认值的后面\n",
    "def recorder(name, age=32): #正确\n",
    "    pass  \n",
    "#def recorder(age=32, name):  #错误\n",
    "\n",
    "#func(*参数) 解包tuple或者list\n",
    "#使用解包列表或元组，则解包参数不可修改\n",
    "def recorder(*person):\n",
    "    for a in person:\n",
    "        if not isinstance(a, (int, str)):\n",
    "            raise TypeError('bad operand type')\n",
    "    #注：参数不可修改\n",
    "    print(person[0], person[1]) \n",
    "mylist = ['Gary', 32]; recorder(*mylist)    #输出：Gary 32\n",
    "mytuple = ['Gary', 32]; recorder(*mytuple)  #输出：Gary 32\n",
    "\n",
    "#func(**dict) 解包字典\n",
    "def recorder(**person):\n",
    "    for a in person.values():\n",
    "        if not isinstance(a, (int, str)):\n",
    "            raise TypeError('bad operand type')\n",
    "    print(person['name'], person['age'])\n",
    "mydict = {'age':32, 'name':'gary'}\n",
    "recorder(**mydict)\n",
    "recorder(age=32, name='gary')\n"
   ]
  },
  {
   "cell_type": "markdown",
   "metadata": {},
   "source": [
    "#### 1.1混合使用"
   ]
  },
  {
   "cell_type": "code",
   "execution_count": 18,
   "metadata": {},
   "outputs": [
    {
     "output_type": "stream",
     "name": "stdout",
     "text": "Gary 32\nGary 32\n"
    }
   ],
   "source": [
    "# 单个形参在前，列表元组字典在后，调用不需要指定单个形参名字\n",
    "def recorder(ttt, *person1, **person2):\n",
    "    if len(person1) != 0:\n",
    "        print(person1[0], person1[1])\n",
    "    if len(person2) != 0:\n",
    "        print(person2['name'], person2['age'])\n",
    "\n",
    "recorder('abc', 'Gary', 32)            #传入不指定形参的实参，由person1接收\n",
    "recorder('abc', name='Gary', age=32)   #传入指定形参的实参，由person2接收\n",
    "recorder(ttt='abc')                    #不需要指定"
   ]
  },
  {
   "cell_type": "markdown",
   "metadata": {},
   "source": [
    "### 2.生成器函数(generator) 见5\n",
    "\n",
    "生成器对象只能迭代一次，所以对可迭代函数的结果只能取一次。迭代器对象（iter)可迭代多次。"
   ]
  },
  {
   "cell_type": "code",
   "execution_count": 44,
   "metadata": {},
   "outputs": [
    {
     "output_type": "stream",
     "name": "stdout",
     "text": "3\n5050\n[1, 4, 9, 16, 25]\n[5, 7, 9]\n[0, 2, 4, 6, 8]\n[]\n"
    }
   ],
   "source": [
    "#匿名函数\n",
    "myfunc = lambda x,y: x+y\n",
    "print(myfunc(1, 2))         #输出3\n",
    "\n",
    "# reduce函数：按照sequence的顺序，依次调用function，每次调用传入两个参数\n",
    "#            一个是sequence当前元素，一个是上一个元素在function的返回值\n",
    "from functools import reduce\n",
    "a = reduce(lambda x,y: x+y, range(1, 101)); print(a) #输出5050\n",
    "\n",
    "b = map(lambda x: x**2, [1, 2, 3, 4, 5]); print(list(b))   #输出[1, 4, 9, 16, 25]\n",
    "#map函数：   可以处理多个函数，lambda函数的参数个数要和列表（序列）数据个数相同\n",
    "#           当两个序列长度不相等，以最小长度对所有序列进行提取\n",
    "c = map(lambda x,y: x+y, [1, 2, 3], [4, 5, 6, 7]); print(list(c)) #输出[5, 7, 9]\n",
    "\n",
    "\n",
    "#filter函数：   把序列对象中的元素依次放到处理函数中，True则留下\n",
    "t = filter(lambda x: x%2==0, range(10))\n",
    "print(list(t))      #输出[0, 2, 4, 6, 8]\n",
    "#生成器对象只能迭代一次，结果只能取一次\n",
    "print(list(t))      #输出[]\n"
   ]
  },
  {
   "cell_type": "markdown",
   "metadata": {},
   "source": [
    "### 3.偏函数\n",
    "偏函数用于截取原函数功能。可以使用一个原函数，将其封装多个偏函数。"
   ]
  },
  {
   "cell_type": "code",
   "execution_count": 45,
   "metadata": {},
   "outputs": [
    {
     "output_type": "stream",
     "name": "stdout",
     "text": "Gary   32\n"
    }
   ],
   "source": [
    "from functools import partial\n",
    "def recorder(name, age):\n",
    "    print(name, ' ', age)\n",
    "\n",
    "partial_recorder = partial(recorder, name='Gary')\n",
    "partial_recorder(age=32)"
   ]
  },
  {
   "cell_type": "markdown",
   "metadata": {},
   "source": [
    "### 4. eval与exec函数\n",
    "eval执行要返回结果，适合放置有结果返回的语句; eval()用于将'[]'(包含组合对象的字符串）转换为[]组合对象\n",
    "\n",
    "exec执行完不返回结果，适合放置运行后没有结果的语句"
   ]
  },
  {
   "cell_type": "code",
   "execution_count": 46,
   "metadata": {},
   "outputs": [
    {
     "output_type": "stream",
     "name": "stdout",
     "text": "None\n5\n[1, 2, 3]\nhello\n"
    }
   ],
   "source": [
    "a = exec('2+3'); print(a)       #返回None\n",
    "a = eval('2+3'); print(a)       #返回5\n",
    "#eval()用于将'[]'(包含组合对象的字符串）转换为[]组合对象\n",
    "b = '[1, 2, 3]'; print(eval(b)) #返回[1, 2, 3]\n",
    "c = '\"hello\"'; print(eval(c))    #返回hello"
   ]
  },
  {
   "cell_type": "markdown",
   "metadata": {},
   "source": [
    "### 5. 生成器函数（generaotr）\n",
    "\n",
    "1. 迭代器函数（iterator）将所有的内容放在内存里面，使用next函数来遍历，节约系统运算资源\n",
    "2. 生成器函数（generaotr）不会把内容放在内存里，调用next时会计算然后立刻销毁，节约内存"
   ]
  },
  {
   "cell_type": "code",
   "execution_count": 51,
   "metadata": {},
   "outputs": [
    {
     "output_type": "stream",
     "name": "stdout",
     "text": "1\n2\n3\n0\n1\n4\n"
    }
   ],
   "source": [
    "#使用yield语句返回\n",
    "def print_list(a):\n",
    "    for i in a:\n",
    "        yield i\n",
    "for i in print_list([1, 2, 3]):\n",
    "    print(i)        #输出1， 2， 3\n",
    "\n",
    "#使用（）\n",
    "a = (x**2 for x in range(3))\n",
    "for i in a:\n",
    "    print(i)        #输出0， 1， 4"
   ]
  },
  {
   "cell_type": "markdown",
   "metadata": {},
   "source": [
    "### 6.变量的作用域\n",
    "1. L：本地作用域，当前函数\n",
    "2. E：（函数嵌套）上一层结构中的def的本地作用域\n",
    "3. G：全局作用域，不被任何函数包括\n",
    "4. B：内置作用域，是python内部的命名空间\n",
    "\n",
    "代码用到某个变量a，系统内部会按照LEGB的顺序去不同的作用域里面找变量a，找到后停下来，否则报错"
   ]
  },
  {
   "cell_type": "code",
   "execution_count": null,
   "metadata": {},
   "outputs": [],
   "source": [
    "# global语句"
   ]
  }
 ],
 "metadata": {
  "language_info": {
   "codemirror_mode": {
    "name": "ipython",
    "version": 3
   },
   "file_extension": ".py",
   "mimetype": "text/x-python",
   "name": "python",
   "nbconvert_exporter": "python",
   "pygments_lexer": "ipython3",
   "version": "3.7.7-final"
  },
  "orig_nbformat": 2,
  "kernelspec": {
   "name": "python3",
   "display_name": "Python 3"
  }
 },
 "nbformat": 4,
 "nbformat_minor": 2
}