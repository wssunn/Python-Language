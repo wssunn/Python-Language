{
 "cells": [
  {
   "cell_type": "markdown",
   "metadata": {},
   "source": [
    "## String"
   ]
  },
  {
   "cell_type": "code",
   "execution_count": 3,
   "metadata": {},
   "outputs": [
    {
     "output_type": "stream",
     "name": "stdout",
     "text": "line\tline\nline\\tline\n'line\\tline'\n'line\\\\tline'\n"
    }
   ],
   "source": [
    "aa = 'line\\tline' #转义字符串\n",
    "bb = R'line\\tline' #原字符串\n",
    "print(aa)\n",
    "print(bb)\n",
    "print(repr(aa))\n",
    "print(repr(bb))"
   ]
  },
  {
   "cell_type": "code",
   "execution_count": 5,
   "metadata": {},
   "outputs": [
    {
     "output_type": "stream",
     "name": "stdout",
     "text": "C:\temp.txt\nC:\\temp.txt\nC:\\temp.txt\nC:/temp.txt\n"
    }
   ],
   "source": [
    "path_1 = \"C:\\temp.txt\" #open产生错误\n",
    "path_2 = \"C:\\\\temp.txt\" #以下为替代方法\n",
    "path_3 = R\"C:\\temp.txt\"\n",
    "path_4 = \"C:/temp.txt\"\n",
    "\n",
    "print(path_1); print(path_2); print(path_3); print(path_4)"
   ]
  },
  {
   "cell_type": "markdown",
   "metadata": {},
   "source": [
    "### 占位符 "
   ]
  },
  {
   "cell_type": "code",
   "execution_count": 29,
   "metadata": {},
   "outputs": [
    {
     "output_type": "stream",
     "name": "stdout",
     "text": "总长为8，小数点后2，实际长度不足，前补空格\n   23.45\n总长为8，小数点后4，实际长度不足，后补空格\n 23.4500\n总长为3，小数点后2，总长度3小于实际长度4，总长度失效\n23.45\n 5  25  125\n 5   5  125\n5 25 5 125\n1 2 1 3\n1 2 1 3\n5 25 5 125\n"
    }
   ],
   "source": [
    "a = 23.45\n",
    "print(\"总长为8，小数点后2，实际长度不足，前补空格\\n%8.2f\" %a)\n",
    "print(\"总长为8，小数点后4，实际长度不足，后补空格\\n%8.4f\" %a)\n",
    "print(\"总长为3，小数点后2，总长度3小于实际长度4，总长度失效\\n%3.2f\" %a)\n",
    "\n",
    "x = 5\n",
    "print('%2d %3d %4d' %(x, x*x, x*x*x)) #分别指定输出长度为2，3，4\n",
    "print('{0:2d} {0:3d} {2:4d}'.format(x, x*x, x*x*x)) #{a:nd}: a is the index of tuple (format)\n",
    "print('{0} {1} {0} {2}'.format(x, x*x, x*x*x))\n",
    "\n",
    "my_list = [1, 2, 3]\n",
    "my_tuple = (1, 2, 3)\n",
    "my_dict = {'x': 5, 'xx':25, 'xxx': 125}\n",
    "print('{0} {1} {0} {2}'.format(*my_list))\n",
    "print('{0} {1} {0} {2}'.format(*my_tuple))\n",
    "print('{x} {xx} {x} {xxx}'.format(**my_dict))"
   ]
  },
  {
   "cell_type": "code",
   "execution_count": 30,
   "metadata": {},
   "outputs": [
    {
     "output_type": "stream",
     "name": "stdout",
     "text": "=========5\n5*********\n****5*****\n"
    }
   ],
   "source": [
    "#note {0:nd}.format() 0 refers to the first element in the tuple\n",
    "print('{0:=>10d}'.format(5)) #右对齐，输出长度为10的整数，用=====填充\n",
    "print('{0:*<10d}'.format(5)) #左对齐，长度10的整数，用*填充\n",
    "print('{0:*^10d}'.format(5)) #居中对齐，长度为10的整数，用^填充"
   ]
  },
  {
   "cell_type": "markdown",
   "metadata": {},
   "source": [
    "## list"
   ]
  },
  {
   "cell_type": "markdown",
   "metadata": {},
   "source": [
    "### 队列和栈\n",
    "队列：现存入的数据，最先取出；先进先出 list.insert(0, 'abc'), list.pop()\n",
    "```python\n",
    "queue = []                      #定义一个空list，当作队列\n",
    "queue.insert(0,1)               #向队列里放入一个整型元素 1\n",
    "queue.insert(0,\"hello\")         #向队列里放入一个字符型元素 hello\n",
    "print(\"取第一个元素\",queue.pop()) #从队列里取一个元素，根据先进先出原则，输出 1\n",
    "print(\"取第二个元素\",queue.pop()) #从队列里取一个元素，根据先进先出原则，输出 hello\n",
    "```\n",
    "\n",
    "栈：先存入的数据，最后取出；后进先出 list.append(), list.pop()\n",
    "```python\n",
    "stack = []                     #定义一个空list，当作栈\n",
    "stack.append(1)                #向栈里放入一个整型元素 1\n",
    "stack.append(\"hello\")          #向栈里放入一个字符型元素 hello\n",
    "print(\"取第一个元素\",stack.pop())#从栈里取一个元素，根据后进先出原则，输出 hello\n",
    "print(\"取第二个元素\",stack.pop())#从栈里取一个元素，根据后进先出原则，输出 1\n",
    "\n",
    "```"
   ]
  },
  {
   "cell_type": "code",
   "execution_count": 5,
   "metadata": {},
   "outputs": [
    {
     "output_type": "stream",
     "name": "stdout",
     "text": "将deque转换为list [1, 2, 'hello']\n实现队列，先进先出： 1\n实现栈，后进先出： hello\nNow queue is [2]\n"
    }
   ],
   "source": [
    "### 使用deque结构体实现更高效的队列\n",
    "from collections import deque  \n",
    "queueandstack  = deque()                #创建空结体构，既可以当队列又可以当栈  \n",
    "\n",
    "queueandstack.append(1)                #向空结体里放入一个整型元素 1 \n",
    "queueandstack.append(2)                #向空结体里放入一个整型元素 2 \n",
    "queueandstack.append(\"hello\")         #向空结体里放入一个字符型元素 hello\n",
    "print('将deque转换为list', list(queueandstack))\n",
    "  \n",
    "print('实现队列，先进先出：', queueandstack.popleft())       #从队列里取一个元素，根据先进先出原则，输出 1\n",
    "print('实现栈，后进先出：', queueandstack.pop())           #从栈里取一个元素，根据后进先出原则，输出 hello\n",
    "print('Now queue is', list(queueandstack)) "
   ]
  },
  {
   "cell_type": "markdown",
   "metadata": {},
   "source": [
    "### 对组合对象进行浅拷贝与深拷贝"
   ]
  },
  {
   "cell_type": "code",
   "execution_count": 22,
   "metadata": {},
   "outputs": [
    {
     "output_type": "stream",
     "name": "stdout",
     "text": "等号赋值，变量有相同指针 4407256320 4407256320\n内部元素有相同指针 4408342320 4408342320\n等号赋值，变量有相同指针 4407256320 4410508384\n内部元素有相同指针 4408342320 4408342320\n等号赋值，变量有相同指针 4407256320 4405201728\n内部元素有相同指针 4408342320 4408342320\n等号赋值，变量有相同指针 4407256320 4405418656\n内部元素有相同指针 4408342320 4408344080\n4418554160 4418554160\n"
    }
   ],
   "source": [
    "import copy\n",
    "a = [[1, 2], 'hello']\n",
    "\n",
    "b = a\n",
    "print('等号赋值')\n",
    "print(id(a), id(b))         #4411185824 4411185824 变量指针相同\n",
    "print(id(a[0]), id(b[0]))   #4411186864 4411186864 元素指针相同\n",
    "\n",
    "b = a.copy()\n",
    "print('copy赋值')\n",
    "print(id(a), id(b))         #4411185824 4406298336 变量指针不同\n",
    "print(id(a[0]), id(b[0]))   #4411186864 4411186864 元素指针相同\n",
    "\n",
    "b = list(a)\n",
    "print('list创建新的列表对象并使用等号赋值')\n",
    "print(id(a), id(b))         #4411185824 4407384016 变量指针不同\n",
    "print(id(a[0]), id(b[0]))   #4411186864 4411186864 元素指针相同\n",
    "\n",
    "b = copy.deepcopy(a)\n",
    "print('深拷贝')\n",
    "print(id(a), id(b))         #4411185824 4404520192 变量指针不同\n",
    "print(id(a[0]), id(b[0]))   #4411186864 4405084240 列表（可变）元素指针不同\n",
    "print(id(a[1]), id(b[1]))   #4418554160 4418554160 静态字符串（不可变）指针相同\n"
   ]
  },
  {
   "cell_type": "code",
   "execution_count": null,
   "metadata": {},
   "outputs": [],
   "source": []
  }
 ],
 "metadata": {
  "language_info": {
   "codemirror_mode": {
    "name": "ipython",
    "version": 3
   },
   "file_extension": ".py",
   "mimetype": "text/x-python",
   "name": "python",
   "nbconvert_exporter": "python",
   "pygments_lexer": "ipython3",
   "version": "3.7.7-final"
  },
  "orig_nbformat": 2,
  "kernelspec": {
   "name": "python3",
   "display_name": "Python 3"
  }
 },
 "nbformat": 4,
 "nbformat_minor": 2
}