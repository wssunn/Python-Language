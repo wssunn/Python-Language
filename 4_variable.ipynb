{
 "cells": [
  {
   "cell_type": "markdown",
   "metadata": {},
   "source": [
    "## String"
   ]
  },
  {
   "cell_type": "code",
   "execution_count": 3,
   "metadata": {},
   "outputs": [
    {
     "output_type": "stream",
     "name": "stdout",
     "text": "line\tline\nline\\tline\n'line\\tline'\n'line\\\\tline'\n"
    }
   ],
   "source": [
    "aa = 'line\\tline' #转义字符串\n",
    "bb = R'line\\tline' #原字符串\n",
    "print(aa)\n",
    "print(bb)\n",
    "print(repr(aa))\n",
    "print(repr(bb))"
   ]
  },
  {
   "cell_type": "code",
   "execution_count": 5,
   "metadata": {},
   "outputs": [
    {
     "output_type": "stream",
     "name": "stdout",
     "text": "C:\temp.txt\nC:\\temp.txt\nC:\\temp.txt\nC:/temp.txt\n"
    }
   ],
   "source": [
    "path_1 = \"C:\\temp.txt\" #open产生错误\n",
    "path_2 = \"C:\\\\temp.txt\" #以下为替代方法\n",
    "path_3 = R\"C:\\temp.txt\"\n",
    "path_4 = \"C:/temp.txt\"\n",
    "\n",
    "print(path_1); print(path_2); print(path_3); print(path_4)"
   ]
  },
  {
   "cell_type": "code",
   "execution_count": null,
   "metadata": {},
   "outputs": [],
   "source": []
  }
 ],
 "metadata": {
  "language_info": {
   "codemirror_mode": {
    "name": "ipython",
    "version": 3
   },
   "file_extension": ".py",
   "mimetype": "text/x-python",
   "name": "python",
   "nbconvert_exporter": "python",
   "pygments_lexer": "ipython3",
   "version": "3.7.7-final"
  },
  "orig_nbformat": 2,
  "kernelspec": {
   "name": "python3",
   "display_name": "Python 3"
  }
 },
 "nbformat": 4,
 "nbformat_minor": 2
}